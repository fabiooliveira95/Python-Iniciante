{
 "cells": [
  {
   "cell_type": "code",
   "id": "initial_id",
   "metadata": {
    "collapsed": true,
    "ExecuteTime": {
     "end_time": "2025-04-25T19:00:25.023369Z",
     "start_time": "2025-04-25T19:00:25.020759Z"
    }
   },
   "source": [
    "import datetime\n",
    "import pandas as pd\n",
    "import matplotlib.pyplot as plt\n",
    "import numpy as np"
   ],
   "outputs": [],
   "execution_count": 52
  },
  {
   "metadata": {
    "ExecuteTime": {
     "end_time": "2025-04-25T19:00:25.998554Z",
     "start_time": "2025-04-25T19:00:25.833333Z"
    }
   },
   "cell_type": "code",
   "source": [
    "#armazena os dados da tabela em estrutura tipo data freme\n",
    "df = pd.read_csv(\"dadosgovbr2014.csv\", sep = ';', encoding=\"latin-1\")\n",
    "#visualizar alguns dados da tabela carregada\n",
    "df.head()"
   ],
   "id": "d77af346c03bc702",
   "outputs": [
    {
     "data": {
      "text/plain": [
       "                                              Gestor   Canal de Origem Região  \\\n",
       "0                  Secretaria Nacional do Consumidor  Não identificado     SE   \n",
       "1  Instituto Estadual de Proteção e Defesa do Con...  Não identificado     SE   \n",
       "2                  Secretaria Nacional do Consumidor  Não identificado     SE   \n",
       "3  Instituto de Promoção e Defesa do Cidadão e Co...  Não identificado     NE   \n",
       "4  Secretaria de Desenvolvimento Social e Direito...  Não identificado     NE   \n",
       "\n",
       "   UF         Cidade Sexo        Faixa Etária  Ano Abertura  Mês Abertura  \\\n",
       "0  RJ       Itaboraí    M  entre 31 a 40 anos          2014             6   \n",
       "1  ES          Serra    F  entre 31 a 40 anos          2014             6   \n",
       "2  RJ  Volta Redonda    M  entre 31 a 40 anos          2014             6   \n",
       "3  MA       São Luís    F  entre 31 a 40 anos          2014             5   \n",
       "4  PE         Recife    M  entre 21 a 30 anos          2014             6   \n",
       "\n",
       "  Data Abertura  ...   Como Comprou Contratou Procurou Empresa Respondida  \\\n",
       "0    27/06/2014  ...  Não comprei / contratei                S          S   \n",
       "1    11/06/2014  ...                 Internet                S          S   \n",
       "2    27/06/2014  ...                 Internet                S          S   \n",
       "3    29/05/2014  ...  Não comprei / contratei                S          S   \n",
       "4    30/06/2014  ...                 Internet                S          S   \n",
       "\n",
       "                  Situação Avaliação Reclamação Nota do Consumidor  \\\n",
       "0  Finalizada não avaliada         Não Avaliada                NaN   \n",
       "1      Finalizada avaliada        Não Resolvida                1.0   \n",
       "2      Finalizada avaliada            Resolvida                5.0   \n",
       "3      Finalizada avaliada            Resolvida                5.0   \n",
       "4  Finalizada não avaliada         Não Avaliada                NaN   \n",
       "\n",
       "  Análise da Recusa Edição de Conteúdo Interação do Gestor Total  \n",
       "0               NaN                  N                   N     1  \n",
       "1               NaN                  N                   N     1  \n",
       "2               NaN                  N                   N     1  \n",
       "3               NaN                  N                   N     1  \n",
       "4               NaN                  N                   N     1  \n",
       "\n",
       "[5 rows x 38 columns]"
      ],
      "text/html": [
       "<div>\n",
       "<style scoped>\n",
       "    .dataframe tbody tr th:only-of-type {\n",
       "        vertical-align: middle;\n",
       "    }\n",
       "\n",
       "    .dataframe tbody tr th {\n",
       "        vertical-align: top;\n",
       "    }\n",
       "\n",
       "    .dataframe thead th {\n",
       "        text-align: right;\n",
       "    }\n",
       "</style>\n",
       "<table border=\"1\" class=\"dataframe\">\n",
       "  <thead>\n",
       "    <tr style=\"text-align: right;\">\n",
       "      <th></th>\n",
       "      <th>Gestor</th>\n",
       "      <th>Canal de Origem</th>\n",
       "      <th>Região</th>\n",
       "      <th>UF</th>\n",
       "      <th>Cidade</th>\n",
       "      <th>Sexo</th>\n",
       "      <th>Faixa Etária</th>\n",
       "      <th>Ano Abertura</th>\n",
       "      <th>Mês Abertura</th>\n",
       "      <th>Data Abertura</th>\n",
       "      <th>...</th>\n",
       "      <th>Como Comprou Contratou</th>\n",
       "      <th>Procurou Empresa</th>\n",
       "      <th>Respondida</th>\n",
       "      <th>Situação</th>\n",
       "      <th>Avaliação Reclamação</th>\n",
       "      <th>Nota do Consumidor</th>\n",
       "      <th>Análise da Recusa</th>\n",
       "      <th>Edição de Conteúdo</th>\n",
       "      <th>Interação do Gestor</th>\n",
       "      <th>Total</th>\n",
       "    </tr>\n",
       "  </thead>\n",
       "  <tbody>\n",
       "    <tr>\n",
       "      <th>0</th>\n",
       "      <td>Secretaria Nacional do Consumidor</td>\n",
       "      <td>Não identificado</td>\n",
       "      <td>SE</td>\n",
       "      <td>RJ</td>\n",
       "      <td>Itaboraí</td>\n",
       "      <td>M</td>\n",
       "      <td>entre 31 a 40 anos</td>\n",
       "      <td>2014</td>\n",
       "      <td>6</td>\n",
       "      <td>27/06/2014</td>\n",
       "      <td>...</td>\n",
       "      <td>Não comprei / contratei</td>\n",
       "      <td>S</td>\n",
       "      <td>S</td>\n",
       "      <td>Finalizada não avaliada</td>\n",
       "      <td>Não Avaliada</td>\n",
       "      <td>NaN</td>\n",
       "      <td>NaN</td>\n",
       "      <td>N</td>\n",
       "      <td>N</td>\n",
       "      <td>1</td>\n",
       "    </tr>\n",
       "    <tr>\n",
       "      <th>1</th>\n",
       "      <td>Instituto Estadual de Proteção e Defesa do Con...</td>\n",
       "      <td>Não identificado</td>\n",
       "      <td>SE</td>\n",
       "      <td>ES</td>\n",
       "      <td>Serra</td>\n",
       "      <td>F</td>\n",
       "      <td>entre 31 a 40 anos</td>\n",
       "      <td>2014</td>\n",
       "      <td>6</td>\n",
       "      <td>11/06/2014</td>\n",
       "      <td>...</td>\n",
       "      <td>Internet</td>\n",
       "      <td>S</td>\n",
       "      <td>S</td>\n",
       "      <td>Finalizada avaliada</td>\n",
       "      <td>Não Resolvida</td>\n",
       "      <td>1.0</td>\n",
       "      <td>NaN</td>\n",
       "      <td>N</td>\n",
       "      <td>N</td>\n",
       "      <td>1</td>\n",
       "    </tr>\n",
       "    <tr>\n",
       "      <th>2</th>\n",
       "      <td>Secretaria Nacional do Consumidor</td>\n",
       "      <td>Não identificado</td>\n",
       "      <td>SE</td>\n",
       "      <td>RJ</td>\n",
       "      <td>Volta Redonda</td>\n",
       "      <td>M</td>\n",
       "      <td>entre 31 a 40 anos</td>\n",
       "      <td>2014</td>\n",
       "      <td>6</td>\n",
       "      <td>27/06/2014</td>\n",
       "      <td>...</td>\n",
       "      <td>Internet</td>\n",
       "      <td>S</td>\n",
       "      <td>S</td>\n",
       "      <td>Finalizada avaliada</td>\n",
       "      <td>Resolvida</td>\n",
       "      <td>5.0</td>\n",
       "      <td>NaN</td>\n",
       "      <td>N</td>\n",
       "      <td>N</td>\n",
       "      <td>1</td>\n",
       "    </tr>\n",
       "    <tr>\n",
       "      <th>3</th>\n",
       "      <td>Instituto de Promoção e Defesa do Cidadão e Co...</td>\n",
       "      <td>Não identificado</td>\n",
       "      <td>NE</td>\n",
       "      <td>MA</td>\n",
       "      <td>São Luís</td>\n",
       "      <td>F</td>\n",
       "      <td>entre 31 a 40 anos</td>\n",
       "      <td>2014</td>\n",
       "      <td>5</td>\n",
       "      <td>29/05/2014</td>\n",
       "      <td>...</td>\n",
       "      <td>Não comprei / contratei</td>\n",
       "      <td>S</td>\n",
       "      <td>S</td>\n",
       "      <td>Finalizada avaliada</td>\n",
       "      <td>Resolvida</td>\n",
       "      <td>5.0</td>\n",
       "      <td>NaN</td>\n",
       "      <td>N</td>\n",
       "      <td>N</td>\n",
       "      <td>1</td>\n",
       "    </tr>\n",
       "    <tr>\n",
       "      <th>4</th>\n",
       "      <td>Secretaria de Desenvolvimento Social e Direito...</td>\n",
       "      <td>Não identificado</td>\n",
       "      <td>NE</td>\n",
       "      <td>PE</td>\n",
       "      <td>Recife</td>\n",
       "      <td>M</td>\n",
       "      <td>entre 21 a 30 anos</td>\n",
       "      <td>2014</td>\n",
       "      <td>6</td>\n",
       "      <td>30/06/2014</td>\n",
       "      <td>...</td>\n",
       "      <td>Internet</td>\n",
       "      <td>S</td>\n",
       "      <td>S</td>\n",
       "      <td>Finalizada não avaliada</td>\n",
       "      <td>Não Avaliada</td>\n",
       "      <td>NaN</td>\n",
       "      <td>NaN</td>\n",
       "      <td>N</td>\n",
       "      <td>N</td>\n",
       "      <td>1</td>\n",
       "    </tr>\n",
       "  </tbody>\n",
       "</table>\n",
       "<p>5 rows × 38 columns</p>\n",
       "</div>"
      ]
     },
     "execution_count": 53,
     "metadata": {},
     "output_type": "execute_result"
    }
   ],
   "execution_count": 53
  },
  {
   "metadata": {
    "ExecuteTime": {
     "end_time": "2025-04-25T19:00:27.530790Z",
     "start_time": "2025-04-25T19:00:27.527886Z"
    }
   },
   "cell_type": "code",
   "source": "df.index",
   "id": "732d6c3458f74009",
   "outputs": [
    {
     "data": {
      "text/plain": [
       "RangeIndex(start=0, stop=43987, step=1)"
      ]
     },
     "execution_count": 54,
     "metadata": {},
     "output_type": "execute_result"
    }
   ],
   "execution_count": 54
  },
  {
   "metadata": {
    "ExecuteTime": {
     "end_time": "2025-04-25T19:00:28.885112Z",
     "start_time": "2025-04-25T19:00:28.881863Z"
    }
   },
   "cell_type": "code",
   "source": "df.shape",
   "id": "73d0ed58a807a814",
   "outputs": [
    {
     "data": {
      "text/plain": [
       "(43987, 38)"
      ]
     },
     "execution_count": 55,
     "metadata": {},
     "output_type": "execute_result"
    }
   ],
   "execution_count": 55
  },
  {
   "metadata": {
    "ExecuteTime": {
     "end_time": "2025-04-25T19:00:30.127082Z",
     "start_time": "2025-04-25T19:00:30.114776Z"
    }
   },
   "cell_type": "code",
   "source": "df.isna",
   "id": "21361db1ba5e121d",
   "outputs": [
    {
     "data": {
      "text/plain": [
       "<bound method DataFrame.isna of                                                   Gestor   Canal de Origem  \\\n",
       "0                      Secretaria Nacional do Consumidor  Não identificado   \n",
       "1      Instituto Estadual de Proteção e Defesa do Con...  Não identificado   \n",
       "2                      Secretaria Nacional do Consumidor  Não identificado   \n",
       "3      Instituto de Promoção e Defesa do Cidadão e Co...  Não identificado   \n",
       "4      Secretaria de Desenvolvimento Social e Direito...  Não identificado   \n",
       "...                                                  ...               ...   \n",
       "43982         Instituto de Defesa do Consumidor - Procon    Plataforma Web   \n",
       "43983        Fundação de Proteção e Defesa do Consumidor    Plataforma Web   \n",
       "43984        Fundação de Proteção e Defesa do Consumidor    Plataforma Web   \n",
       "43985  Departamento de Proteção e Defesa do Consumido...    Plataforma Web   \n",
       "43986        Fundação de Proteção e Defesa do Consumidor    Plataforma Web   \n",
       "\n",
       "      Região  UF                 Cidade Sexo        Faixa Etária  \\\n",
       "0         SE  RJ               Itaboraí    M  entre 31 a 40 anos   \n",
       "1         SE  ES                  Serra    F  entre 31 a 40 anos   \n",
       "2         SE  RJ          Volta Redonda    M  entre 31 a 40 anos   \n",
       "3         NE  MA               São Luís    F  entre 31 a 40 anos   \n",
       "4         NE  PE                 Recife    M  entre 21 a 30 anos   \n",
       "...      ...  ..                    ...  ...                 ...   \n",
       "43982     CO  DF               Brasília    M  entre 31 a 40 anos   \n",
       "43983     SE  SP  São Bernardo do Campo    M  entre 31 a 40 anos   \n",
       "43984     SE  SP              São Paulo    M  entre 31 a 40 anos   \n",
       "43985     S   RS         Dona Francisca    M     mais de 70 anos   \n",
       "43986     SE  SP                 Santos    F  entre 31 a 40 anos   \n",
       "\n",
       "       Ano Abertura  Mês Abertura Data Abertura  ...   Como Comprou Contratou  \\\n",
       "0              2014             6    27/06/2014  ...  Não comprei / contratei   \n",
       "1              2014             6    11/06/2014  ...                 Internet   \n",
       "2              2014             6    27/06/2014  ...                 Internet   \n",
       "3              2014             5    29/05/2014  ...  Não comprei / contratei   \n",
       "4              2014             6    30/06/2014  ...                 Internet   \n",
       "...             ...           ...           ...  ...                      ...   \n",
       "43982          2014            12    01/12/2014  ...                 Internet   \n",
       "43983          2014            11    30/11/2014  ...                 Internet   \n",
       "43984          2014            12    26/12/2014  ...                 Internet   \n",
       "43985          2014            12    09/12/2014  ...              Loja física   \n",
       "43986          2014            12    02/12/2014  ...                 Telefone   \n",
       "\n",
       "      Procurou Empresa Respondida                 Situação  \\\n",
       "0                    S          S  Finalizada não avaliada   \n",
       "1                    S          S      Finalizada avaliada   \n",
       "2                    S          S      Finalizada avaliada   \n",
       "3                    S          S      Finalizada avaliada   \n",
       "4                    S          S  Finalizada não avaliada   \n",
       "...                ...        ...                      ...   \n",
       "43982                S          S  Finalizada não avaliada   \n",
       "43983                S          S      Finalizada avaliada   \n",
       "43984                S          S      Finalizada avaliada   \n",
       "43985                S          S  Finalizada não avaliada   \n",
       "43986                N          S      Finalizada avaliada   \n",
       "\n",
       "      Avaliação Reclamação Nota do Consumidor Análise da Recusa  \\\n",
       "0             Não Avaliada                NaN               NaN   \n",
       "1            Não Resolvida                1.0               NaN   \n",
       "2                Resolvida                5.0               NaN   \n",
       "3                Resolvida                5.0               NaN   \n",
       "4             Não Avaliada                NaN               NaN   \n",
       "...                    ...                ...               ...   \n",
       "43982         Não Avaliada                NaN               NaN   \n",
       "43983        Não Resolvida                1.0               NaN   \n",
       "43984        Não Resolvida                1.0               NaN   \n",
       "43985         Não Avaliada                NaN               NaN   \n",
       "43986            Resolvida                3.0               NaN   \n",
       "\n",
       "      Edição de Conteúdo Interação do Gestor Total  \n",
       "0                      N                   N     1  \n",
       "1                      N                   N     1  \n",
       "2                      N                   N     1  \n",
       "3                      N                   N     1  \n",
       "4                      N                   N     1  \n",
       "...                  ...                 ...   ...  \n",
       "43982                  N                   N     1  \n",
       "43983                  N                   N     1  \n",
       "43984                  N                   N     1  \n",
       "43985                  N                   N     1  \n",
       "43986                  N                   N     1  \n",
       "\n",
       "[43987 rows x 38 columns]>"
      ]
     },
     "execution_count": 56,
     "metadata": {},
     "output_type": "execute_result"
    }
   ],
   "execution_count": 56
  },
  {
   "metadata": {
    "ExecuteTime": {
     "end_time": "2025-04-25T19:00:31.517915Z",
     "start_time": "2025-04-25T19:00:31.483466Z"
    }
   },
   "cell_type": "code",
   "source": "print('quatidade de dados nulos:', df.isna().sum())",
   "id": "9327da7daa86457c",
   "outputs": [
    {
     "name": "stdout",
     "output_type": "stream",
     "text": [
      "quatidade de dados nulos: Gestor                        0\n",
      "Canal de Origem               0\n",
      "Região                        0\n",
      "UF                            0\n",
      "Cidade                        0\n",
      "Sexo                          0\n",
      "Faixa Etária                  0\n",
      "Ano Abertura                  0\n",
      "Mês Abertura                  0\n",
      "Data Abertura                 0\n",
      "Hora Abertura                 0\n",
      "Data Resposta              2026\n",
      "Hora Resposta              2026\n",
      "Data Análise              42034\n",
      "Hora Análise              42034\n",
      "Data Recusa               41921\n",
      "Hora Recusa               41921\n",
      "Data Finalização              0\n",
      "Hora Finalização              0\n",
      "Prazo Resposta                0\n",
      "Prazo Analise Gestor      42034\n",
      "Tempo Resposta             2026\n",
      "Nome Fantasia                 0\n",
      "Segmento de Mercado           0\n",
      "Área                          0\n",
      "Assunto                       0\n",
      "Grupo Problema                0\n",
      "Problema                      0\n",
      "Como Comprou Contratou        0\n",
      "Procurou Empresa              0\n",
      "Respondida                    0\n",
      "Situação                      0\n",
      "Avaliação Reclamação       1834\n",
      "Nota do Consumidor        15360\n",
      "Análise da Recusa         41941\n",
      "Edição de Conteúdo            0\n",
      "Interação do Gestor           0\n",
      "Total                         0\n",
      "dtype: int64\n"
     ]
    }
   ],
   "execution_count": 57
  },
  {
   "metadata": {
    "ExecuteTime": {
     "end_time": "2025-04-25T19:04:22.934984Z",
     "start_time": "2025-04-25T19:04:22.927822Z"
    }
   },
   "cell_type": "code",
   "source": [
    "s = pd.Series(pd.date_range(start='2014-01-01', periods=3, freq='D'))\n",
    "td = pd.Series([pd.Timedelta(days=i) for i in range(3)])\n",
    "df = pd.DataFrame({\"A\": s, \"B\": td})\n",
    "print(df)"
   ],
   "id": "5b90e243f0a877c5",
   "outputs": [
    {
     "name": "stdout",
     "output_type": "stream",
     "text": [
      "           A      B\n",
      "0 2014-01-01 0 days\n",
      "1 2014-01-02 1 days\n",
      "2 2014-01-03 2 days\n"
     ]
    }
   ],
   "execution_count": 69
  },
  {
   "metadata": {
    "ExecuteTime": {
     "end_time": "2025-04-25T19:07:29.138588Z",
     "start_time": "2025-04-25T19:07:29.071115Z"
    }
   },
   "cell_type": "code",
   "source": [
    "# questao5A\n",
    "plt.style.use('seaborn-v0_8')\n",
    "\n",
    "\n",
    "np.random.seed(1)\n",
    "x = 4 + np.random.normal(0, 1.5, 200)\n",
    "\n",
    "fig, ax = plt.subplots()\n",
    "\n",
    "ax.hist(x, bins=8, linewidth=0.5, edgecolor=\"white\")\n",
    "\n",
    "ax.set(xlim=(0, 8), xticks=np.arange(1, 8),\n",
    "       ylim=(0, 56), yticks=np.linspace(0, 56, 9))\n",
    "\n",
    "plt.show()\n"
   ],
   "id": "e013a690ce69b22f",
   "outputs": [
    {
     "data": {
      "text/plain": [
       "<Figure size 800x550 with 1 Axes>"
      ],
      "image/png": "[encoded data removed]"
     },
     "metadata": {},
     "output_type": "display_data"
    }
   ],
   "execution_count": 76
  },
  {
   "metadata": {},
   "cell_type": "code",
   "outputs": [],
   "execution_count": null,
   "source": "",
   "id": "f47d9c79ae221de2"
  }
 ],
 "metadata": {
  "kernelspec": {
   "display_name": "Python 3",
   "language": "python",
   "name": "python3"
  },
  "language_info": {
   "codemirror_mode": {
    "name": "ipython",
    "version": 2
   },
   "file_extension": ".py",
   "mimetype": "text/x-python",
   "name": "python",
   "nbconvert_exporter": "python",
   "pygments_lexer": "ipython2",
   "version": "2.7.6"
  }
 },
 "nbformat": 4,
 "nbformat_minor": 5
}
